{
 "cells": [
  {
   "cell_type": "code",
   "execution_count": 74,
   "id": "38bfdd3c",
   "metadata": {},
   "outputs": [],
   "source": [
    "import os\n",
    "import pickle\n",
    "import numpy as np\n",
    "import pandas as pd"
   ]
  },
  {
   "cell_type": "code",
   "execution_count": 75,
   "id": "e619f85f",
   "metadata": {},
   "outputs": [
    {
     "name": "stdout",
     "output_type": "stream",
     "text": [
      "Loaded 210 app_ids from intermediate results.\n"
     ]
    }
   ],
   "source": [
    "\n",
    "def load_all_intermediate(folder='intermediate_results'):\n",
    "    \"\"\"\n",
    "    Load all per-app_id intermediate results from disk into a single dictionary.\n",
    "    \n",
    "    Returns:\n",
    "        similarity_results: dict\n",
    "            Keys are app_id, values are dicts with 'reviews' and 'similarity_matrix'.\n",
    "    \"\"\"\n",
    "    similarity_results = {}\n",
    "    if not os.path.exists(folder):\n",
    "        print(f\"No folder named '{folder}' found.\")\n",
    "        return similarity_results\n",
    "\n",
    "    for filename in os.listdir(folder):\n",
    "        if filename.endswith('.pkl'):\n",
    "            app_id = filename.replace('.pkl', '')\n",
    "            file_path = os.path.join(folder, filename)\n",
    "            with open(file_path, 'rb') as f:\n",
    "                similarity_results[app_id] = pickle.load(f)\n",
    "    return similarity_results\n",
    "\n",
    "# -------------------------------\n",
    "# Example usage:\n",
    "# -------------------------------\n",
    "similarity_results = load_all_intermediate('intermediate_results')\n",
    "print(f\"Loaded {len(similarity_results)} app_ids from intermediate results.\")"
   ]
  },
  {
   "cell_type": "code",
   "execution_count": 76,
   "id": "e803c569",
   "metadata": {},
   "outputs": [],
   "source": [
    "# -------------------------------\n",
    "# Filter reviews by threshold (any tag)\n",
    "# -------------------------------\n",
    "def filter_reviews_by_threshold(similarity_results, threshold=0.5):\n",
    "    allowed_reviews = []\n",
    "    for app_id, data in similarity_results.items():\n",
    "        sim_matrix = data['similarity_matrix']\n",
    "        review_texts = data['reviews']\n",
    "\n",
    "        # Boolean mask: any tag above threshold\n",
    "        mask = np.any(sim_matrix > threshold, axis=1)\n",
    "\n",
    "        for review, keep in zip(review_texts, mask):\n",
    "            if keep:\n",
    "                allowed_reviews.append((app_id, review))\n",
    "\n",
    "    return allowed_reviews\n"
   ]
  },
  {
   "cell_type": "code",
   "execution_count": 85,
   "id": "7e098435",
   "metadata": {},
   "outputs": [],
   "source": [
    "# Step 2: Filter later by threshold\n",
    "allowed_reviews = filter_reviews_by_threshold(similarity_results, threshold=0.4)\n",
    "allowed_reviews_df = pd.DataFrame(allowed_reviews, columns=['app_id', 'review_text'])\n"
   ]
  },
  {
   "cell_type": "code",
   "execution_count": 86,
   "id": "4e75b993",
   "metadata": {},
   "outputs": [
    {
     "name": "stdout",
     "output_type": "stream",
     "text": [
      "210\n",
      "210\n"
     ]
    }
   ],
   "source": [
    "games = len(similarity_results.keys())\n",
    "print(games)\n",
    "filterGames = len(np.unique(np.array(allowed_reviews_df['app_id'])))\n",
    "print(filterGames)"
   ]
  },
  {
   "cell_type": "code",
   "execution_count": 87,
   "id": "e20965f0",
   "metadata": {},
   "outputs": [
    {
     "name": "stdout",
     "output_type": "stream",
     "text": [
      "(215733, 2)\n"
     ]
    },
    {
     "data": {
      "text/html": [
       "<div>\n",
       "<style scoped>\n",
       "    .dataframe tbody tr th:only-of-type {\n",
       "        vertical-align: middle;\n",
       "    }\n",
       "\n",
       "    .dataframe tbody tr th {\n",
       "        vertical-align: top;\n",
       "    }\n",
       "\n",
       "    .dataframe thead th {\n",
       "        text-align: right;\n",
       "    }\n",
       "</style>\n",
       "<table border=\"1\" class=\"dataframe\">\n",
       "  <thead>\n",
       "    <tr style=\"text-align: right;\">\n",
       "      <th></th>\n",
       "      <th>app_id</th>\n",
       "      <th>review_text</th>\n",
       "    </tr>\n",
       "  </thead>\n",
       "  <tbody>\n",
       "    <tr>\n",
       "      <th>0</th>\n",
       "      <td>10</td>\n",
       "      <td>This will be more of a ''my experience with th...</td>\n",
       "    </tr>\n",
       "    <tr>\n",
       "      <th>1</th>\n",
       "      <td>10</td>\n",
       "      <td>• Do you like original games? • Do you like ga...</td>\n",
       "    </tr>\n",
       "    <tr>\n",
       "      <th>2</th>\n",
       "      <td>10</td>\n",
       "      <td>Easy to learn, hard to master.</td>\n",
       "    </tr>\n",
       "    <tr>\n",
       "      <th>3</th>\n",
       "      <td>10</td>\n",
       "      <td>Still better than Call of Duty: Ghosts...</td>\n",
       "    </tr>\n",
       "    <tr>\n",
       "      <th>4</th>\n",
       "      <td>10</td>\n",
       "      <td>Counter-Strike: Ok, after 9 years of unlimited...</td>\n",
       "    </tr>\n",
       "    <tr>\n",
       "      <th>...</th>\n",
       "      <td>...</td>\n",
       "      <td>...</td>\n",
       "    </tr>\n",
       "    <tr>\n",
       "      <th>215728</th>\n",
       "      <td>80</td>\n",
       "      <td>Some pretty bad animations and models but it w...</td>\n",
       "    </tr>\n",
       "    <tr>\n",
       "      <th>215729</th>\n",
       "      <td>80</td>\n",
       "      <td>Pretty good game but...... Very hard to get ki...</td>\n",
       "    </tr>\n",
       "    <tr>\n",
       "      <th>215730</th>\n",
       "      <td>80</td>\n",
       "      <td>best graphics of the century</td>\n",
       "    </tr>\n",
       "    <tr>\n",
       "      <th>215731</th>\n",
       "      <td>80</td>\n",
       "      <td>My favorite game of all time! For some reason ...</td>\n",
       "    </tr>\n",
       "    <tr>\n",
       "      <th>215732</th>\n",
       "      <td>80</td>\n",
       "      <td>(I have 8 hours in the game, but the review do...</td>\n",
       "    </tr>\n",
       "  </tbody>\n",
       "</table>\n",
       "<p>215733 rows × 2 columns</p>\n",
       "</div>"
      ],
      "text/plain": [
       "       app_id                                        review_text\n",
       "0          10  This will be more of a ''my experience with th...\n",
       "1          10  • Do you like original games? • Do you like ga...\n",
       "2          10           Easy to learn, hard to master.          \n",
       "3          10          Still better than Call of Duty: Ghosts...\n",
       "4          10  Counter-Strike: Ok, after 9 years of unlimited...\n",
       "...       ...                                                ...\n",
       "215728     80  Some pretty bad animations and models but it w...\n",
       "215729     80  Pretty good game but...... Very hard to get ki...\n",
       "215730     80                       best graphics of the century\n",
       "215731     80  My favorite game of all time! For some reason ...\n",
       "215732     80  (I have 8 hours in the game, but the review do...\n",
       "\n",
       "[215733 rows x 2 columns]"
      ]
     },
     "execution_count": 87,
     "metadata": {},
     "output_type": "execute_result"
    }
   ],
   "source": [
    "print(allowed_reviews_df.shape)\n",
    "allowed_reviews_df"
   ]
  },
  {
   "cell_type": "code",
   "execution_count": 88,
   "id": "8585e162",
   "metadata": {},
   "outputs": [],
   "source": [
    "allowed_reviews_df.to_csv('allowed_reviews.csv', index=False)"
   ]
  }
 ],
 "metadata": {
  "kernelspec": {
   "display_name": "Python 3",
   "language": "python",
   "name": "python3"
  },
  "language_info": {
   "codemirror_mode": {
    "name": "ipython",
    "version": 3
   },
   "file_extension": ".py",
   "mimetype": "text/x-python",
   "name": "python",
   "nbconvert_exporter": "python",
   "pygments_lexer": "ipython3",
   "version": "3.12.10"
  }
 },
 "nbformat": 4,
 "nbformat_minor": 5
}
