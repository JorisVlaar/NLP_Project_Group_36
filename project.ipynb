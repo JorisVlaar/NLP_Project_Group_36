{
 "cells": [
  {
   "cell_type": "markdown",
   "id": "7ebf56f3",
   "metadata": {},
   "source": [
    "# Tasks\n",
    "\n",
    "Dataset collection – Download the main Steam Reviews dataset (and optionally the other ones if needed).\n",
    "\n",
    "Tag collection – Gather the complete set of Steam tags (either from a list or by extracting tags attached to games in your dataset).\n",
    "\n",
    "Data cleaning & preprocessing – Remove duplicates, filter uninformative reviews (“very good game”), normalize text (tokenization, lowercasing, stopword removal, etc.).\n",
    "\n",
    "Dataset integration – Ensure reviews and tags are linked to the same games; build a consistent structure combining review text and game tags.\n",
    "\n",
    "Exploratory data analysis – Inspect distribution of reviews per game, most frequent tags, review length, balance between positive/negative reviews, etc.\n",
    "\n",
    "Baseline method implementation – Train Word2Vec embeddings per game and compute cosine similarity between reviews and tag embeddings.\n",
    "\n",
    "Advanced modeling – Experiment with alternative methods (e.g., supervised learning, other embedding models, feature importance analysis).\n",
    "\n",
    "Evaluation design – Decide on the scoring system (exact match vs. order-sensitive comparison of tags with Steam’s official tag list).\n",
    "\n",
    "Evaluation & analysis – Run the models, compare outputs against Steam’s tags, and analyze results (per game and overall).\n",
    "\n",
    "Reporting & discussion – Interpret findings in terms of your research questions (correlation of reviews and tags, best features for tag extraction)."
   ]
  }
 ],
 "metadata": {
  "language_info": {
   "name": "python"
  }
 },
 "nbformat": 4,
 "nbformat_minor": 5
}
