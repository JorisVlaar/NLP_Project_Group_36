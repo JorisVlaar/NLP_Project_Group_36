{
 "cells": [
  {
   "cell_type": "markdown",
   "id": "7ebf56f3",
   "metadata": {},
   "source": [
    "# Tasks\n",
    "\n",
    "Dataset collection – Download the main Steam Reviews dataset (and optionally the other ones if needed).\n",
    "\n",
    "Tag collection – Gather the complete set of Steam tags (either from a list or by extracting tags attached to games in your dataset).\n",
    "\n",
    "Data cleaning & preprocessing – Remove duplicates, filter uninformative reviews (“very good game”), normalize text (tokenization, lowercasing, stopword removal, etc.).\n",
    "\n",
    "Dataset integration – Ensure reviews and tags are linked to the same games; build a consistent structure combining review text and game tags.\n",
    "\n",
    "Exploratory data analysis – Inspect distribution of reviews per game, most frequent tags, review length, balance between positive/negative reviews, etc.\n",
    "\n",
    "Baseline method implementation – Train Word2Vec embeddings per game and compute cosine similarity between reviews and tag embeddings.\n",
    "\n",
    "Advanced modeling – Experiment with alternative methods (e.g., supervised learning, other embedding models, feature importance analysis).\n",
    "\n",
    "Evaluation design – Decide on the scoring system (exact match vs. order-sensitive comparison of tags with Steam’s official tag list).\n",
    "\n",
    "Evaluation & analysis – Run the models, compare outputs against Steam’s tags, and analyze results (per game and overall).\n",
    "\n",
    "Reporting & discussion – Interpret findings in terms of your research questions (correlation of reviews and tags, best features for tag extraction)."
   ]
  },
  {
   "cell_type": "markdown",
   "id": "b313e6df",
   "metadata": {},
   "source": [
    "1. Getting Data"
   ]
  },
  {
   "cell_type": "code",
   "execution_count": 5,
   "id": "304151dc",
   "metadata": {},
   "outputs": [
    {
     "data": {
      "text/html": [
       "<div>\n",
       "<style scoped>\n",
       "    .dataframe tbody tr th:only-of-type {\n",
       "        vertical-align: middle;\n",
       "    }\n",
       "\n",
       "    .dataframe tbody tr th {\n",
       "        vertical-align: top;\n",
       "    }\n",
       "\n",
       "    .dataframe thead th {\n",
       "        text-align: right;\n",
       "    }\n",
       "</style>\n",
       "<table border=\"1\" class=\"dataframe\">\n",
       "  <thead>\n",
       "    <tr style=\"text-align: right;\">\n",
       "      <th></th>\n",
       "      <th>app_id</th>\n",
       "      <th>app_name</th>\n",
       "      <th>review_text</th>\n",
       "      <th>review_score</th>\n",
       "      <th>review_votes</th>\n",
       "    </tr>\n",
       "  </thead>\n",
       "  <tbody>\n",
       "    <tr>\n",
       "      <th>0</th>\n",
       "      <td>10</td>\n",
       "      <td>Counter-Strike</td>\n",
       "      <td>Ruined my life.</td>\n",
       "      <td>1</td>\n",
       "      <td>0</td>\n",
       "    </tr>\n",
       "    <tr>\n",
       "      <th>1</th>\n",
       "      <td>10</td>\n",
       "      <td>Counter-Strike</td>\n",
       "      <td>This will be more of a ''my experience with th...</td>\n",
       "      <td>1</td>\n",
       "      <td>1</td>\n",
       "    </tr>\n",
       "    <tr>\n",
       "      <th>2</th>\n",
       "      <td>10</td>\n",
       "      <td>Counter-Strike</td>\n",
       "      <td>This game saved my virginity.</td>\n",
       "      <td>1</td>\n",
       "      <td>0</td>\n",
       "    </tr>\n",
       "    <tr>\n",
       "      <th>3</th>\n",
       "      <td>10</td>\n",
       "      <td>Counter-Strike</td>\n",
       "      <td>• Do you like original games? • Do you like ga...</td>\n",
       "      <td>1</td>\n",
       "      <td>0</td>\n",
       "    </tr>\n",
       "    <tr>\n",
       "      <th>4</th>\n",
       "      <td>10</td>\n",
       "      <td>Counter-Strike</td>\n",
       "      <td>Easy to learn, hard to master.</td>\n",
       "      <td>1</td>\n",
       "      <td>1</td>\n",
       "    </tr>\n",
       "  </tbody>\n",
       "</table>\n",
       "</div>"
      ],
      "text/plain": [
       "   app_id        app_name                                        review_text  \\\n",
       "0      10  Counter-Strike                                    Ruined my life.   \n",
       "1      10  Counter-Strike  This will be more of a ''my experience with th...   \n",
       "2      10  Counter-Strike                      This game saved my virginity.   \n",
       "3      10  Counter-Strike  • Do you like original games? • Do you like ga...   \n",
       "4      10  Counter-Strike           Easy to learn, hard to master.             \n",
       "\n",
       "   review_score  review_votes  \n",
       "0             1             0  \n",
       "1             1             1  \n",
       "2             1             0  \n",
       "3             1             0  \n",
       "4             1             1  "
      ]
     },
     "execution_count": 5,
     "metadata": {},
     "output_type": "execute_result"
    }
   ],
   "source": [
    "import pandas as pd\n",
    "import numpy as np\n",
    "\n",
    "df = pd.read_csv(\"./archive/dataset.csv\")\n",
    "df.head()"
   ]
  },
  {
   "cell_type": "code",
   "execution_count": 6,
   "id": "639a13a2",
   "metadata": {},
   "outputs": [
    {
     "name": "stdout",
     "output_type": "stream",
     "text": [
      "(9364,)\n",
      "(9972,)\n"
     ]
    }
   ],
   "source": [
    "gameNames = df[\"app_name\"].unique()\n",
    "gameCodes = df[\"app_id\"].unique()\n",
    "\n",
    "print(gameNames.shape)\n",
    "print(gameCodes.shape)"
   ]
  },
  {
   "cell_type": "code",
   "execution_count": 10,
   "id": "7c0d5d2e",
   "metadata": {},
   "outputs": [
    {
     "name": "stdout",
     "output_type": "stream",
     "text": [
      "6417106\n"
     ]
    },
    {
     "data": {
      "text/plain": [
       "5126570"
      ]
     },
     "execution_count": 10,
     "metadata": {},
     "output_type": "execute_result"
    }
   ],
   "source": [
    "print(df[\"review_text\"].shape[0])\n",
    "df.loc[df[\"review_text\"].str.split().str.len() > 3, \"review_text\"].shape[0]"
   ]
  },
  {
   "cell_type": "code",
   "execution_count": 11,
   "id": "a9a3c754",
   "metadata": {},
   "outputs": [
    {
     "name": "stdout",
     "output_type": "stream",
     "text": [
      "word_count\n",
      "≤3       1283045\n",
      "4–5       296477\n",
      "6–10      719003\n",
      "11–15     568744\n",
      "16–20     432384\n",
      "21–30     608413\n",
      "30+      2501549\n",
      "Name: count, dtype: int64\n"
     ]
    }
   ],
   "source": [
    "df[\"word_count\"] = df[\"review_text\"].str.split().str.len()\n",
    "\n",
    "bins   = [0, 3, 5, 10, 15, 20, 30, float(\"inf\")]\n",
    "labels = [\"≤3\", \"4–5\", \"6–10\", \"11–15\", \"16–20\", \"21–30\", \"30+\"]\n",
    "\n",
    "counts = pd.cut(df[\"word_count\"], bins=bins, labels=labels, right=True).value_counts().sort_index()\n",
    "\n",
    "print(counts)\n"
   ]
  },
  {
   "cell_type": "code",
   "execution_count": 13,
   "id": "df1bd9ee",
   "metadata": {},
   "outputs": [
    {
     "data": {
      "image/png": "[encoded data removed]",
      "text/plain": [
       "<Figure size 800x500 with 1 Axes>"
      ]
     },
     "metadata": {},
     "output_type": "display_data"
    }
   ],
   "source": [
    "import matplotlib.pyplot as plt\n",
    "\n",
    "\n",
    "# Plot\n",
    "plt.figure(figsize=(8,5))\n",
    "counts.plot(kind=\"bar\", color=\"skyblue\", edgecolor=\"black\")\n",
    "\n",
    "plt.title(\"Review Length Distribution (by word count)\")\n",
    "plt.xlabel(\"Word Count Range\")\n",
    "plt.ylabel(\"Number of Reviews\")\n",
    "plt.xticks(rotation=45)\n",
    "plt.tight_layout()\n",
    "plt.show()\n"
   ]
  }
 ],
 "metadata": {
  "kernelspec": {
   "display_name": "Python 3",
   "language": "python",
   "name": "python3"
  },
  "language_info": {
   "codemirror_mode": {
    "name": "ipython",
    "version": 3
   },
   "file_extension": ".py",
   "mimetype": "text/x-python",
   "name": "python",
   "nbconvert_exporter": "python",
   "pygments_lexer": "ipython3",
   "version": "3.12.10"
  }
 },
 "nbformat": 4,
 "nbformat_minor": 5
}
