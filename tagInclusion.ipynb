{
 "cells": [
  {
   "cell_type": "code",
   "execution_count": 2,
   "id": "8fa530cd",
   "metadata": {},
   "outputs": [
    {
     "name": "stdout",
     "output_type": "stream",
     "text": [
      "              tag   votes\n",
      "0          Action  827366\n",
      "2     Multiplayer  616210\n",
      "26   Singleplayer  601640\n",
      "41      Adventure  585096\n",
      "24          Indie  547414\n",
      "77     Open World  431682\n",
      "115  Free to Play  421072\n",
      "14       Strategy  407904\n",
      "85            RPG  380488\n",
      "32          Co-op  338243\n"
     ]
    }
   ],
   "source": [
    "import pandas as pd\n",
    "from collections import Counter\n",
    "import ast\n",
    "import numpy as np\n",
    "# Load CSV\n",
    "df = pd.read_csv(\"output.csv\")\n",
    "\n",
    "# Convert 'tags' string into actual dictionary\n",
    "df['tags_dict'] = df['tags'].apply(ast.literal_eval)\n",
    "\n",
    "# Aggregate all tags across all games\n",
    "all_tags = Counter()\n",
    "for tags in df['tags_dict']:\n",
    "    all_tags.update(tags)\n",
    "\n",
    "# Convert to DataFrame for easier sorting\n",
    "tag_df = pd.DataFrame(all_tags.items(), columns=['tag', 'votes'])\n",
    "tag_df = tag_df.sort_values(by='votes', ascending=False)\n",
    "\n",
    "print(tag_df.head(10))"
   ]
  },
  {
   "cell_type": "code",
   "execution_count": null,
   "id": "4d37f666",
   "metadata": {},
   "outputs": [
    {
     "name": "stdout",
     "output_type": "stream",
     "text": [
      "['Action', 'Multiplayer', 'Singleplayer', 'Adventure', 'Indie', 'Open World', 'Free to Play', 'Strategy', 'RPG', 'Co-op', 'Survival', 'First-Person', 'Shooter', 'Atmospheric', 'Simulation', 'FPS', 'Sandbox', 'Casual', 'Story Rich', 'Horror', 'Online Co-Op', '2D', 'Funny', 'Exploration', 'Great Soundtrack', 'Third Person', 'Sci-fi', 'Open World Survival Craft', 'Fantasy', 'Zombies', 'Puzzle', 'PvP', 'Difficult', 'Comedy', 'Building', 'Crafting', 'Hero Shooter', 'Action RPG', 'Pixel Graphics', 'Massively Multiplayer', 'Moddable', 'Platformer', 'Post-apocalyptic', 'Female Protagonist', 'Tactical', 'Space', 'Anime', 'Realistic', 'Survival Horror', 'Character Customization']\n"
     ]
    }
   ],
   "source": [
    "print(tag_df.head(100)['tag'].to_list())"
   ]
  },
  {
   "cell_type": "code",
   "execution_count": null,
   "id": "e76a5208",
   "metadata": {},
   "outputs": [
    {
     "name": "stdout",
     "output_type": "stream",
     "text": [
      "['Philisophical' 'Hobby Sim' 'VR Only' 'Elf' 'Coding' 'Star Wars' 'Dice'\n",
      " 'Hardware' 'Fox' 'Feature Film' 'Steam Machine' 'Shop Keeper'\n",
      " 'Job Simulator' 'Cricket' 'Snooker' '360 Video' 'Birds' 'Faith' 'Rugby'\n",
      " 'Snowboarding' 'BMX' 'Masterpiece' 'Skateboarding' 'Cycling' 'ATV'\n",
      " 'Skiing' 'Bowling' 'Voice Control' 'Mahjong' 'Electronic Music'\n",
      " 'Spelling' 'Skating' 'Foreign' 'Cozy' 'Tennis' 'Pool' 'Motocross'\n",
      " 'Asymmetric VR' 'Archery' 'Bikes' 'Experience' 'Documentary' 'Hockey'\n",
      " 'Wholesome' 'Vikings' 'Football' 'Soccer' 'Boxing' 'Musou' 'Trivia'\n",
      " 'Baseball' 'Auto Battler' 'Benchmark' 'Boss Rush' 'Web Publishing'\n",
      " 'Motorbike' 'Audio Production' 'Submarine' 'Gaming' 'Golf' 'Lemmings'\n",
      " 'Mini Golf' 'Escape Room' 'Word Game' 'Jet' 'Photo Editing'\n",
      " 'Software Training' 'Farming' 'Mars' '6DOF' 'Gambling' 'Minigames'\n",
      " 'Roguelike Deckbuilder' 'Ambient' 'Medical Sim' 'Pinball' 'Well-Written'\n",
      " 'Movie' 'Intentionally Awkward Controls' 'Werewolves' 'Snow' 'Jump Scare'\n",
      " 'Reboot' 'Wrestling' 'Dungeons & Dragons' 'Chess' 'Boomer Shooter'\n",
      " 'Time Attack' 'Creature Collector' 'GameMaker'\n",
      " 'Music-Based Procedural Generation' 'Crowdfunded' 'Cooking' 'Spaceships'\n",
      " 'Basketball' 'Sokoban' 'TrackIR' 'Roguevania' 'Video Production'\n",
      " 'Narrative' 'Mystery Dungeon' 'Solitaire' 'Tutorial' 'Sequel'\n",
      " 'Social Deduction' 'Asynchronous Multiplayer' 'FMV' 'Horses'\n",
      " 'Battle Royale' 'Outbreak Sim' 'Fishing' 'Martial Arts' 'Underground'\n",
      " 'Dynamic Narration' 'NSFW' 'Agriculture' 'Typing' 'Rome' 'Conspiracy'\n",
      " 'World War I' 'Football (American)' 'Nonlinear' 'Unforgiving' 'Offroad'\n",
      " 'Cats' 'Programming' 'Games Workshop' 'Sniper' 'Dwarf' 'Transhumanism'\n",
      " 'Warhammer 40K' 'Action RTS' 'On-Rails Shooter' 'Mining'\n",
      " 'Game Development' '3D Vision' 'Politics' 'Mouse only' 'Party Game'\n",
      " 'Collectathon' 'Sailing' 'Philosophical' 'Thriller' 'Vampire' 'Otome'\n",
      " 'Artificial Intelligence' 'Spectacle fighter' 'Party' 'Text-Based'\n",
      " 'Parody ' 'Runner' 'Kickstarter' 'Idler' '3D Fighter' 'Trains'\n",
      " 'Immersive' 'Experimental' 'Match 3' 'Conversation' 'Quick-Time Events'\n",
      " 'Grid-Based Movement' 'Time Manipulation' 'Character Action Game'\n",
      " 'Based On A Novel' 'Design & Illustration' 'Silent Protagonist'\n",
      " 'Political' 'Animation & Modeling' 'Traditional Roguelike' 'Bullet Time'\n",
      " 'Epic' 'Villain Protagonist' 'Software' 'Mythology' 'Gothic' 'Satire'\n",
      " 'Swordplay' 'Soundtrack' 'Touch-Friendly' 'Farming Sim' 'Naval'\n",
      " 'Nostalgia' 'Dark Comedy' 'Combat Racing' 'Investigation' 'Mod'\n",
      " 'Hex Grid' 'Political Sim' 'Time Travel' 'God Game'\n",
      " 'Inventory Management' 'Utilities' 'Dog' 'Western' 'Demons' 'Nature'\n",
      " 'Modern' 'LEGO' 'Drama' 'Capitalism' 'Score Attack' 'Cold War'\n",
      " 'Supernatural' 'Time Management' 'Football (Soccer)' 'Comic Book'\n",
      " 'Emotional' 'Automation' 'Illuminati' 'Hunting' 'Pirates' '1980s'\n",
      " 'Hentai' 'Beautiful' 'Episodic' 'Mechs' 'Noir' 'LGBTQ+' 'Lovecraftian'\n",
      " 'Psychedelic' 'Clicker' 'Life Sim' 'Tabletop' 'America' 'Heist'\n",
      " 'Naval Combat' 'Split Screen' 'Interactive Fiction' 'Addictive'\n",
      " 'Abstract' 'Superhero' 'Cult Classic' 'Arena Shooter' 'Rhythm'\n",
      " 'Deckbuilding' 'Card Battler' 'RPGMaker' 'Real-Time' 'Co-op Campaign'\n",
      " 'Logic' 'Narration' 'Underwater' 'Cinematic' 'Psychological'\n",
      " 'Twin Stick Shooter' 'Hacking' '2D Fighter' 'Trading Card Game' 'Remake'\n",
      " 'Voxel' '2.5D' 'Science' 'Strategy RPG' 'Trading' 'Gun Customization'\n",
      " 'Music' 'Cartoon' 'CRPG' 'Linear' 'Assassin' 'Real-Time with Pause'\n",
      " 'Ninja' 'Blood' 'Hidden Object' 'Education' 'Top-Down Shooter'\n",
      " 'Dystopian ' 'Precision Platformer' 'Tanks' 'Detective' 'Hand-drawn'\n",
      " 'Minimalist' \"1990's\" 'Dinosaurs' 'Alternate History' 'Steampunk'\n",
      " 'Transportation' 'Party-Based RPG' 'Board Game' 'Vehicular Combat'\n",
      " 'Dragons' 'Diplomacy' \"Beat 'em up\" 'Wargame' 'Surreal' 'Card Game'\n",
      " 'Tactical RPG' 'Dating Sim' 'Colony Sim' 'Class-Based' 'Romance' 'Flight'\n",
      " 'Perma Death' 'Old School' 'Souls-like' 'Real Time Tactics' '4X'\n",
      " 'Metroidvania' 'Destruction' 'Futuristic' 'Short' '3D Platformer'\n",
      " 'Space Sim' '4 Player Local' 'Sexual Content' '2D Platformer' 'Cyberpunk'\n",
      " 'Level Editor' 'Turn-Based Combat' \"Shoot 'Em Up\" 'Lore-Rich' 'Combat'\n",
      " 'Stylized' 'Rogue-lite' 'Aliens' 'MOBA' 'Fast-Paced' 'JRPG'\n",
      " 'Resource Management' 'MMORPG' 'e-sports' 'World War II' 'Robots'\n",
      " 'Dark Humor' 'Cartoony' 'Bullet Hell' 'Magic' 'Choose Your Own Adventure'\n",
      " 'Fighting' 'Turn-Based Tactics' 'Action Roguelike' 'Walking Simulator'\n",
      " 'Memes' 'Violent' 'Immersive Sim' 'Mystery' 'City Builder' 'VR'\n",
      " 'Tower Defense' 'Parkour' 'Loot' 'Side Scroller' 'Grand Strategy'\n",
      " 'Dungeon Crawler' 'Puzzle-Platformer' 'Economy' 'Action-Adventure'\n",
      " 'Sports' 'Local Multiplayer' 'Crime' 'Procedural Generation'\n",
      " 'Multiple Endings' 'Isometric' 'Medieval' 'Driving' 'Top-Down' 'Relaxing'\n",
      " 'Visual Novel' 'Looter Shooter' 'Controller' 'Nudity' 'Dark Fantasy'\n",
      " 'Local Co-Op' 'Rogue-like' 'PvE' 'Historical' 'Dark' 'Colorful'\n",
      " 'Early Access' 'Psychological Horror' 'Competitive' '3D' 'Retro' 'Mature'\n",
      " 'Replay Value' 'Base-Building' 'Turn-Based' 'RTS' 'Turn-Based Strategy'\n",
      " 'Cute' 'Hack and Slash' 'Choices Matter' 'Military' 'Family Friendly'\n",
      " 'Automobile Sim' 'Physics' 'Classic' 'Arcade' 'Management' 'War'\n",
      " 'Point & Click' 'Third-Person Shooter' 'Racing' 'Stealth' 'Team-Based'\n",
      " 'Gore' 'Character Customization' 'Survival Horror' 'Realistic' 'Anime'\n",
      " 'Space' 'Tactical' 'Female Protagonist' 'Post-apocalyptic' 'Platformer'\n",
      " 'Moddable' 'Massively Multiplayer' 'Pixel Graphics' 'Action RPG'\n",
      " 'Hero Shooter' 'Crafting' 'Building' 'Comedy' 'Difficult' 'PvP' 'Puzzle'\n",
      " 'Zombies' 'Fantasy' 'Open World Survival Craft' 'Sci-fi' 'Third Person'\n",
      " 'Great Soundtrack' 'Exploration' 'Funny' '2D' 'Online Co-Op' 'Horror'\n",
      " 'Story Rich' 'Casual' 'Sandbox' 'FPS' 'Simulation' 'Atmospheric'\n",
      " 'Shooter' 'First-Person' 'Survival' 'Co-op' 'RPG' 'Strategy'\n",
      " 'Free to Play' 'Open World' 'Indie' 'Adventure' 'Singleplayer'\n",
      " 'Multiplayer' 'Action']\n",
      "Philisophical\n"
     ]
    }
   ],
   "source": [
    "import numpy as np\n",
    "\n",
    "inclusion = []\n",
    "\n",
    "for t in np.flip(np.array(tag_df['tag'])):\n",
    "    print(t)\n",
    "    response = input(\"Include this tag? (y/n): \")\n",
    "    if response.lower() == 'y':\n",
    "        inclusion.append(t)\n",
    "\n",
    "print(\"Included tags:\", inclusion)"
   ]
  },
  {
   "cell_type": "code",
   "execution_count": null,
   "id": "9c4e149d",
   "metadata": {},
   "outputs": [
    {
     "name": "stdout",
     "output_type": "stream",
     "text": [
      "--- 71.5507926940918 seconds ---\n"
     ]
    },
    {
     "ename": "KeyError",
     "evalue": "\"Key 'Open World' not present\"",
     "output_type": "error",
     "traceback": [
      "\u001b[31m---------------------------------------------------------------------------\u001b[39m",
      "\u001b[31mKeyError\u001b[39m                                  Traceback (most recent call last)",
      "\u001b[36mCell\u001b[39m\u001b[36m \u001b[39m\u001b[32mIn[9]\u001b[39m\u001b[32m, line 62\u001b[39m\n\u001b[32m     59\u001b[39m w2v_google = api.load(\u001b[33m\"\u001b[39m\u001b[33mword2vec-google-news-300\u001b[39m\u001b[33m\"\u001b[39m)\n\u001b[32m     60\u001b[39m \u001b[38;5;28mprint\u001b[39m(\u001b[33m\"\u001b[39m\u001b[33m--- \u001b[39m\u001b[38;5;132;01m%s\u001b[39;00m\u001b[33m seconds ---\u001b[39m\u001b[33m\"\u001b[39m % (time.time() - start_time))\n\u001b[32m---> \u001b[39m\u001b[32m62\u001b[39m \u001b[43mtsne_plot\u001b[49m\u001b[43m(\u001b[49m\u001b[43mw2v_google\u001b[49m\u001b[43m,\u001b[49m\u001b[43m \u001b[49m\u001b[43mwordlist\u001b[49m\u001b[43m,\u001b[49m\u001b[43m \u001b[49m\u001b[32;43m3.2\u001b[39;49m\u001b[43m)\u001b[49m\n",
      "\u001b[36mCell\u001b[39m\u001b[36m \u001b[39m\u001b[32mIn[9]\u001b[39m\u001b[32m, line 12\u001b[39m, in \u001b[36mtsne_plot\u001b[39m\u001b[34m(model, wordlist, p)\u001b[39m\n\u001b[32m      9\u001b[39m tokens = []\n\u001b[32m     11\u001b[39m \u001b[38;5;28;01mfor\u001b[39;00m word \u001b[38;5;129;01min\u001b[39;00m wordlist:\n\u001b[32m---> \u001b[39m\u001b[32m12\u001b[39m     tokens.append(\u001b[43mmodel\u001b[49m\u001b[43m[\u001b[49m\u001b[43mword\u001b[49m\u001b[43m]\u001b[49m)\n\u001b[32m     13\u001b[39m     labels.append(word)\n\u001b[32m     15\u001b[39m tokens = np.array(tokens)\n",
      "\u001b[36mFile \u001b[39m\u001b[32m~\\AppData\\Local\\Packages\\PythonSoftwareFoundation.Python.3.12_qbz5n2kfra8p0\\LocalCache\\local-packages\\Python312\\site-packages\\gensim\\models\\keyedvectors.py:403\u001b[39m, in \u001b[36mKeyedVectors.__getitem__\u001b[39m\u001b[34m(self, key_or_keys)\u001b[39m\n\u001b[32m    389\u001b[39m \u001b[38;5;250m\u001b[39m\u001b[33;03m\"\"\"Get vector representation of `key_or_keys`.\u001b[39;00m\n\u001b[32m    390\u001b[39m \n\u001b[32m    391\u001b[39m \u001b[33;03mParameters\u001b[39;00m\n\u001b[32m   (...)\u001b[39m\u001b[32m    400\u001b[39m \n\u001b[32m    401\u001b[39m \u001b[33;03m\"\"\"\u001b[39;00m\n\u001b[32m    402\u001b[39m \u001b[38;5;28;01mif\u001b[39;00m \u001b[38;5;28misinstance\u001b[39m(key_or_keys, _KEY_TYPES):\n\u001b[32m--> \u001b[39m\u001b[32m403\u001b[39m     \u001b[38;5;28;01mreturn\u001b[39;00m \u001b[38;5;28;43mself\u001b[39;49m\u001b[43m.\u001b[49m\u001b[43mget_vector\u001b[49m\u001b[43m(\u001b[49m\u001b[43mkey_or_keys\u001b[49m\u001b[43m)\u001b[49m\n\u001b[32m    405\u001b[39m \u001b[38;5;28;01mreturn\u001b[39;00m vstack([\u001b[38;5;28mself\u001b[39m.get_vector(key) \u001b[38;5;28;01mfor\u001b[39;00m key \u001b[38;5;129;01min\u001b[39;00m key_or_keys])\n",
      "\u001b[36mFile \u001b[39m\u001b[32m~\\AppData\\Local\\Packages\\PythonSoftwareFoundation.Python.3.12_qbz5n2kfra8p0\\LocalCache\\local-packages\\Python312\\site-packages\\gensim\\models\\keyedvectors.py:446\u001b[39m, in \u001b[36mKeyedVectors.get_vector\u001b[39m\u001b[34m(self, key, norm)\u001b[39m\n\u001b[32m    422\u001b[39m \u001b[38;5;28;01mdef\u001b[39;00m\u001b[38;5;250m \u001b[39m\u001b[34mget_vector\u001b[39m(\u001b[38;5;28mself\u001b[39m, key, norm=\u001b[38;5;28;01mFalse\u001b[39;00m):\n\u001b[32m    423\u001b[39m \u001b[38;5;250m    \u001b[39m\u001b[33;03m\"\"\"Get the key's vector, as a 1D numpy array.\u001b[39;00m\n\u001b[32m    424\u001b[39m \n\u001b[32m    425\u001b[39m \u001b[33;03m    Parameters\u001b[39;00m\n\u001b[32m   (...)\u001b[39m\u001b[32m    444\u001b[39m \n\u001b[32m    445\u001b[39m \u001b[33;03m    \"\"\"\u001b[39;00m\n\u001b[32m--> \u001b[39m\u001b[32m446\u001b[39m     index = \u001b[38;5;28;43mself\u001b[39;49m\u001b[43m.\u001b[49m\u001b[43mget_index\u001b[49m\u001b[43m(\u001b[49m\u001b[43mkey\u001b[49m\u001b[43m)\u001b[49m\n\u001b[32m    447\u001b[39m     \u001b[38;5;28;01mif\u001b[39;00m norm:\n\u001b[32m    448\u001b[39m         \u001b[38;5;28mself\u001b[39m.fill_norms()\n",
      "\u001b[36mFile \u001b[39m\u001b[32m~\\AppData\\Local\\Packages\\PythonSoftwareFoundation.Python.3.12_qbz5n2kfra8p0\\LocalCache\\local-packages\\Python312\\site-packages\\gensim\\models\\keyedvectors.py:420\u001b[39m, in \u001b[36mKeyedVectors.get_index\u001b[39m\u001b[34m(self, key, default)\u001b[39m\n\u001b[32m    418\u001b[39m     \u001b[38;5;28;01mreturn\u001b[39;00m default\n\u001b[32m    419\u001b[39m \u001b[38;5;28;01melse\u001b[39;00m:\n\u001b[32m--> \u001b[39m\u001b[32m420\u001b[39m     \u001b[38;5;28;01mraise\u001b[39;00m \u001b[38;5;167;01mKeyError\u001b[39;00m(\u001b[33mf\u001b[39m\u001b[33m\"\u001b[39m\u001b[33mKey \u001b[39m\u001b[33m'\u001b[39m\u001b[38;5;132;01m{\u001b[39;00mkey\u001b[38;5;132;01m}\u001b[39;00m\u001b[33m'\u001b[39m\u001b[33m not present\u001b[39m\u001b[33m\"\u001b[39m)\n",
      "\u001b[31mKeyError\u001b[39m: \"Key 'Open World' not present\""
     ]
    }
   ],
   "source": [
    "from sentence_transformers import SentenceTransformer\n",
    "from sklearn.manifold import TSNE\n",
    "import numpy as np\n",
    "import matplotlib.pyplot as plt\n",
    "from gensim.models.word2vec import LineSentence, Word2Vec\n",
    "\n",
    "def tsne_plot(model, wordlist, p):\n",
    "    labels = []\n",
    "    tokens = []\n",
    "\n",
    "    for word in wordlist:\n",
    "        tokens.append(model[word])\n",
    "        labels.append(word)\n",
    "\n",
    "    tokens = np.array(tokens)\n",
    "\n",
    "    tsne_model = TSNE(perplexity=p, n_components=2, init='pca', max_iter=2500, random_state=23)\n",
    "    new_values = tsne_model.fit_transform(tokens)\n",
    "\n",
    "    x = []\n",
    "    y = []\n",
    "    for value in new_values:\n",
    "        x.append(value[0])\n",
    "        y.append(value[1])\n",
    "\n",
    "    plt.figure(figsize=(5, 5))\n",
    "    for i in range(len(x)):\n",
    "        plt.scatter(x[i], y[i])\n",
    "        plt.annotate(labels[i],\n",
    "                     xy=(x[i], y[i]),\n",
    "                     xytext=(5, 2),\n",
    "                     textcoords='offset points',\n",
    "                     ha='right',\n",
    "                     va='bottom')\n",
    "    plt.show()\n",
    "\n",
    "wordlist = np.array(tag_df['tag'])\n",
    "\n",
    "\n",
    "# -----------------------------\n",
    "# 3. Encode text to embeddings\n",
    "# -----------------------------\n",
    "def encode_and_save_embeddings(tags, model_name=\"all-mpnet-base-v2\", output_file=\"tagEmbeddings.npy\"):\n",
    "    print(\"Encoding text to embeddings...\")\n",
    "    data = Word2Vec(sentences=tags, vector_size=100, window=5, min_count=5, sg=0, negative=5 )\n",
    "    # data = model.encode(tags, show_progress_bar=True)\n",
    "    np.save(output_file, data)\n",
    "    return data\n",
    "\n",
    "reembed = False\n",
    "if reembed:\n",
    "    data = encode_and_save_embeddings(wordlist)\n",
    "# else:\n",
    "#     data = np.load(\"tagEmbeddings.npy\")\n",
    "\n",
    "import time\n",
    "import gensim.downloader as api\n",
    "start_time = time.time()\n",
    "w2v_google = api.load(\"word2vec-google-news-300\")\n",
    "print(\"--- %s seconds ---\" % (time.time() - start_time))\n",
    "\n",
    "tsne_plot(w2v_google, wordlist, 3.2)\n",
    "\n",
    "\n"
   ]
  },
  {
   "cell_type": "code",
   "execution_count": 3,
   "id": "622fca43",
   "metadata": {},
   "outputs": [
    {
     "data": {
      "text/plain": [
       "array(['Action', 'Multiplayer', 'Singleplayer', 'Adventure', 'Indie',\n",
       "       'Open World', 'Free to Play', 'Strategy', 'RPG', 'Co-op',\n",
       "       'Survival', 'First-Person', 'Shooter', 'Atmospheric', 'Simulation',\n",
       "       'FPS', 'Sandbox', 'Casual', 'Story Rich', 'Horror', 'Online Co-Op',\n",
       "       '2D', 'Funny', 'Exploration', 'Great Soundtrack', 'Third Person',\n",
       "       'Sci-fi', 'Open World Survival Craft', 'Fantasy', 'Zombies',\n",
       "       'Puzzle', 'PvP', 'Difficult', 'Comedy', 'Building', 'Crafting',\n",
       "       'Hero Shooter', 'Action RPG', 'Pixel Graphics',\n",
       "       'Massively Multiplayer', 'Moddable', 'Platformer',\n",
       "       'Post-apocalyptic', 'Female Protagonist', 'Tactical', 'Space',\n",
       "       'Anime', 'Realistic', 'Survival Horror', 'Character Customization',\n",
       "       'Gore', 'Team-Based', 'Stealth', 'Racing', 'Third-Person Shooter',\n",
       "       'Point & Click', 'War', 'Management', 'Arcade', 'Classic',\n",
       "       'Physics', 'Automobile Sim', 'Family Friendly', 'Military',\n",
       "       'Choices Matter', 'Hack and Slash', 'Cute', 'Turn-Based Strategy',\n",
       "       'RTS', 'Turn-Based', 'Base-Building', 'Replay Value', 'Mature',\n",
       "       'Retro', '3D', 'Competitive', 'Psychological Horror',\n",
       "       'Early Access', 'Colorful', 'Dark', 'Historical', 'PvE',\n",
       "       'Rogue-like', 'Local Co-Op', 'Dark Fantasy', 'Nudity',\n",
       "       'Controller', 'Looter Shooter', 'Visual Novel', 'Relaxing',\n",
       "       'Top-Down', 'Driving', 'Medieval', 'Isometric', 'Multiple Endings',\n",
       "       'Procedural Generation', 'Crime', 'Local Multiplayer', 'Sports',\n",
       "       'Action-Adventure'], dtype=object)"
      ]
     },
     "execution_count": 3,
     "metadata": {},
     "output_type": "execute_result"
    }
   ],
   "source": [
    "np.array(tag_df['tag'])[:100]"
   ]
  }
 ],
 "metadata": {
  "kernelspec": {
   "display_name": "Python 3",
   "language": "python",
   "name": "python3"
  },
  "language_info": {
   "codemirror_mode": {
    "name": "ipython",
    "version": 3
   },
   "file_extension": ".py",
   "mimetype": "text/x-python",
   "name": "python",
   "nbconvert_exporter": "python",
   "pygments_lexer": "ipython3",
   "version": "3.12.10"
  }
 },
 "nbformat": 4,
 "nbformat_minor": 5
}
